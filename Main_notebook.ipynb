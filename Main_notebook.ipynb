{
 "cells": [
  {
   "cell_type": "markdown",
   "metadata": {},
   "source": [
    "\n",
    "## Questions:\n",
    "\n",
    "## 1) Before you have a look at the subscription_periods table, what do you understand about the business, what do you think are the important metrics to analyze, and how would you measure them?\n"
   ]
  },
  {
   "cell_type": "markdown",
   "metadata": {},
   "source": [
    "A) The business in short is a: secure e-presence legal-biding paperless document signature autorization plateform.\n",
    "\n",
    "B) Given the relatively early state of the company and its status as an 'early adopters' plateform; the most important focus is on growth to gain maximum market share (exploration rather than explotation). \n",
    "\n",
    "This is translated to the following KPIs (3 by category): \n",
    "\n",
    "1) Keep inflow growing :\n",
    "    - Count New Registrations, trials, Premium - by month\n",
    "    - Conversion rates  - depending on the timing of the trial (proportion of new subscribers at end of the month)\n",
    "    - Churn Rate - by month (proportion of leavers at the end of the month)\n",
    "    \n",
    "\n",
    "2) Customer satisfaction :\n",
    "    - Purchase Frequency ( total orders / total unique custormers).\n",
    "    - Net promoter score ( 0-6 detractors, 7-8 passive, 9-10 Promoter. (count promoters — count detractors) / (total users responding) x 100\n",
    "    - Complain/more info request ratio.   (total cases / total users) x 100\n",
    "    - Active Users (count users have done any action within a period of time: month, weekly or daily).\n",
    "\n",
    "To keep a check on the health of the company i will also add :\n",
    "\n",
    "3) Revenue :\n",
    "    - Gross Profit\n",
    "    - Average order Value\n",
    "    - Customer Lifetime Value (customer annual spend x expected customer stay) –  customer cost of acquisition"
   ]
  },
  {
   "cell_type": "markdown",
   "metadata": {},
   "source": [
    "## 2) Using the SQL engine of your choice, have a look at the dataset, what assumptions can you make about our business rules, and the general quality of the data provided?\n"
   ]
  },
  {
   "cell_type": "markdown",
   "metadata": {},
   "source": [
    "#### Observations:\n",
    "\n",
    "1) The table is abreviated, thus the necesity to have an additional calendar day table.\n",
    "2) Customer_id and subscription_id are encripted. why is subscription encripted? \n",
    "3) A customer can have several subscriptions and a subscription_id can refeer to several PLAN_IDs, that start and end at different dates with different monthly amounts. This last one is not a good idea for locating the subscription to a specific plan, maybe there is a better table for this.\n",
    "    - Best example for this problem is the customer= '00c2d0254d533e10d6c7aa2d94b2481c621ff495e457e566d1f0ea7fe9fa82f9' that has 11 subscriptions\n",
    "    - from which the subscription ('fa3f04b857630c555272457d264b45d5c46e72c62b157e6876487c6240fa7b2b') has 2 different plans that start and end in different dates.\n",
    "    - -> please check the datacheck notebook and sql file.\n",
    "\n",
    "#### Quality of data:\n",
    "\n",
    "There are 5063 recods with:\n",
    "- No missing values.\n",
    "- No duplicate rows.\n",
    "- 3 types variables : 3 categorical 2 datetime 1 numerical\n",
    "- 1 error: line 815, the end date is  572 days before the start date (fixed by hand)\n",
    "\n",
    "- The MONTHLY_AMOUNT:\n",
    "    - 2.3% of zeros (16 out of 30 plans have at least one plan with zero as monthly amount, is this normal?)\n",
    "    - There vast majority of deals are under 880 (95th percentile ) then it shoots up.\n",
    "  \n"
   ]
  },
  {
   "cell_type": "markdown",
   "metadata": {},
   "source": [
    "## 3) A customer \"churned\" today if the customer paid for a subscription last day, but today he or she doesn't. A customer can churn many times.\n",
    "\n",
    "### ● How many customers churned during June 2020?\n",
    "\n"
   ]
  },
  {
   "cell_type": "markdown",
   "metadata": {},
   "source": [
    "> We assume a churner for june is someone that is present in any day of june (or last day of may) and is no longer present at the last day of june.\n",
    ">  1) dummy_1 = min present day\n",
    ">  2) dummy_2 = 30 june presence\n",
    "    \n",
    ">    - if a == 1 and b == 1 then stayer\n",
    ">    - if a == 0 then not churner not present\n",
    ">    - if a ==1 and b ==0 then churner\n",
    "\n",
    "> sum churners.\n",
    "\n",
    "> Please see answer on SQL in the SQL file.\n",
    " \n",
    "> ==>The answer is 70  "
   ]
  },
  {
   "cell_type": "markdown",
   "metadata": {},
   "source": [
    "### ● What is the evolution of the churned amount (revenue loss) over 2020?\n"
   ]
  },
  {
   "cell_type": "markdown",
   "metadata": {},
   "source": [
    "> Please see answer on SQL in the SQL file.\n",
    "\n",
    "> Formula  =  SUM(churn days x average monthly revenue in the month).\n",
    "\n",
    ">  ===> After March the trend is going down.\n",
    "\n",
    "> NB: The contracts intake stops at '2020-09-17', thus the dead drop from that month!\n"
   ]
  },
  {
   "cell_type": "code",
   "execution_count": 6,
   "metadata": {},
   "outputs": [],
   "source": [
    "import pandas as pd\n",
    "import seaborn as sns"
   ]
  },
  {
   "cell_type": "code",
   "execution_count": 12,
   "metadata": {},
   "outputs": [
    {
     "data": {
      "image/png": "[encoded data removed]",
      "text/plain": [
       "<Figure size 360x360 with 1 Axes>"
      ]
     },
     "metadata": {
      "needs_background": "light"
     },
     "output_type": "display_data"
    }
   ],
   "source": [
    "g = sns.relplot(x=\"month\", y=\" Revenue Loss\", kind=\"line\", data= pd.read_csv(\"rev_los.csv\"))\n",
    "g.fig.autofmt_xdate()"
   ]
  },
  {
   "cell_type": "markdown",
   "metadata": {},
   "source": [
    "\n",
    "### ● What are your leads, what action can be taken to identify the cause of such evolution?\n",
    "\n"
   ]
  },
  {
   "cell_type": "markdown",
   "metadata": {},
   "source": [
    "First look at the main variables.\n",
    "The churn revenue loss has 3 main variables:\n",
    "    \n",
    "- Volume (user contracts)\n",
    "- Monthly price\n",
    "- Days of absence (which is turn is increased/decreased by the Monthly price.    \n",
    "    \n",
    "Then make hypothesis on them such as:\n",
    "\n",
    "- Users quantity per month (maybe we have less users and thus less Loss?)\n",
    "- Decrease of absence (maybe users dont leave so much as before... why?)\n",
    "- Contract lenght per month ( maybe we have )\n",
    "- Avg Churn days per user\n",
    "- The best thing is to continue this with a bonefish diagram\n",
    " \n",
    "Is also important to check the assumptions such as: \n",
    "\n",
    "- The change in the offer.\n",
    "- The change in the default duration of offer.\n",
    "- The Data (meaning the pipes are still arriving to the tables).\n",
    "- The concurrence offering ( better price?, promotion?, service?, ..etc.).\n",
    "- The Cannibalization of offers.\n",
    "- Do customers believe the service is unreliable and churn after a period?\n",
    "- Do Users can live witouth paying and can overpass the subscription? (Winrar example)\n",
    "\n",
    "__NB the contracts intake stops at '2020-09-17', thus the dead drop from that month__\n"
   ]
  },
  {
   "cell_type": "code",
   "execution_count": null,
   "metadata": {},
   "outputs": [],
   "source": []
  }
 ],
 "metadata": {
  "kernelspec": {
   "display_name": "Python 3",
   "language": "python",
   "name": "python3"
  },
  "language_info": {
   "codemirror_mode": {
    "name": "ipython",
    "version": 3
   },
   "file_extension": ".py",
   "mimetype": "text/x-python",
   "name": "python",
   "nbconvert_exporter": "python",
   "pygments_lexer": "ipython3",
   "version": "3.7.6"
  }
 },
 "nbformat": 4,
 "nbformat_minor": 4
}
