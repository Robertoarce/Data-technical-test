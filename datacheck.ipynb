{
 "cells": [
  {
   "cell_type": "code",
   "execution_count": 1,
   "metadata": {},
   "outputs": [],
   "source": [
    "import pandas as pd "
   ]
  },
  {
   "cell_type": "code",
   "execution_count": 2,
   "metadata": {},
   "outputs": [
    {
     "name": "stdout",
     "output_type": "stream",
     "text": [
      "<class 'pandas.core.frame.DataFrame'>\n",
      "RangeIndex: 5063 entries, 0 to 5062\n",
      "Data columns (total 6 columns):\n",
      " #   Column           Non-Null Count  Dtype \n",
      "---  ------           --------------  ----- \n",
      " 0   CUSTOMER_ID      5063 non-null   object\n",
      " 1   SUBSCRIPTION_ID  5063 non-null   object\n",
      " 2   PLAN_ID          5063 non-null   object\n",
      " 3   START_DATE       5063 non-null   object\n",
      " 4   END_DATE         5063 non-null   object\n",
      " 5   MONTHLY_AMOUNT   5063 non-null   int64 \n",
      "dtypes: int64(1), object(5)\n",
      "memory usage: 237.5+ KB\n"
     ]
    }
   ],
   "source": [
    "df = pd.read_csv(\"subscription_periods.csv\", low_memory=False)\n",
    "df.info()"
   ]
  },
  {
   "cell_type": "code",
   "execution_count": 3,
   "metadata": {},
   "outputs": [
    {
     "data": {
      "text/html": [
       "<div>\n",
       "<style scoped>\n",
       "    .dataframe tbody tr th:only-of-type {\n",
       "        vertical-align: middle;\n",
       "    }\n",
       "\n",
       "    .dataframe tbody tr th {\n",
       "        vertical-align: top;\n",
       "    }\n",
       "\n",
       "    .dataframe thead th {\n",
       "        text-align: right;\n",
       "    }\n",
       "</style>\n",
       "<table border=\"1\" class=\"dataframe\">\n",
       "  <thead>\n",
       "    <tr style=\"text-align: right;\">\n",
       "      <th></th>\n",
       "      <th>CUSTOMER_ID</th>\n",
       "      <th>SUBSCRIPTION_ID</th>\n",
       "      <th>PLAN_ID</th>\n",
       "      <th>START_DATE</th>\n",
       "      <th>END_DATE</th>\n",
       "      <th>MONTHLY_AMOUNT</th>\n",
       "    </tr>\n",
       "  </thead>\n",
       "  <tbody>\n",
       "    <tr>\n",
       "      <th>0</th>\n",
       "      <td>5a5fb065a009845d76039464312c2b975b91b93c989b0f...</td>\n",
       "      <td>47e971fe9b6970ebf7c35cae4c5444c6fc8928ea744ec8...</td>\n",
       "      <td>app_pro_12</td>\n",
       "      <td>2020-04-21</td>\n",
       "      <td>2050-01-01</td>\n",
       "      <td>126</td>\n",
       "    </tr>\n",
       "    <tr>\n",
       "      <th>1</th>\n",
       "      <td>e2cc335334e07321a07679eadc613e176548d3de73d5a1...</td>\n",
       "      <td>7ab78cb6c03b26648e648684db1dc3973ab86807c2db4b...</td>\n",
       "      <td>app_enterprise</td>\n",
       "      <td>2020-05-09</td>\n",
       "      <td>2050-01-01</td>\n",
       "      <td>95</td>\n",
       "    </tr>\n",
       "    <tr>\n",
       "      <th>2</th>\n",
       "      <td>2ec077da17c6fc8cddb7fd31ed3f783781d0bc1e9d7e7a...</td>\n",
       "      <td>4c7634e09586b1b000fd49f62d32e8658f40cdeeff9206...</td>\n",
       "      <td>app_pro_24</td>\n",
       "      <td>2020-06-15</td>\n",
       "      <td>2050-01-01</td>\n",
       "      <td>114</td>\n",
       "    </tr>\n",
       "  </tbody>\n",
       "</table>\n",
       "</div>"
      ],
      "text/plain": [
       "                                         CUSTOMER_ID  \\\n",
       "0  5a5fb065a009845d76039464312c2b975b91b93c989b0f...   \n",
       "1  e2cc335334e07321a07679eadc613e176548d3de73d5a1...   \n",
       "2  2ec077da17c6fc8cddb7fd31ed3f783781d0bc1e9d7e7a...   \n",
       "\n",
       "                                     SUBSCRIPTION_ID         PLAN_ID  \\\n",
       "0  47e971fe9b6970ebf7c35cae4c5444c6fc8928ea744ec8...      app_pro_12   \n",
       "1  7ab78cb6c03b26648e648684db1dc3973ab86807c2db4b...  app_enterprise   \n",
       "2  4c7634e09586b1b000fd49f62d32e8658f40cdeeff9206...      app_pro_24   \n",
       "\n",
       "  START_DATE   END_DATE  MONTHLY_AMOUNT  \n",
       "0 2020-04-21 2050-01-01             126  \n",
       "1 2020-05-09 2050-01-01              95  \n",
       "2 2020-06-15 2050-01-01             114  "
      ]
     },
     "execution_count": 3,
     "metadata": {},
     "output_type": "execute_result"
    }
   ],
   "source": [
    "df['START_DATE'] =  df['START_DATE'].astype('datetime64')\n",
    "df['END_DATE']   =  df['END_DATE'].astype('datetime64')\n",
    "df.head(3)"
   ]
  },
  {
   "cell_type": "code",
   "execution_count": 4,
   "metadata": {},
   "outputs": [
    {
     "name": "stdout",
     "output_type": "stream",
     "text": [
      "<class 'pandas.core.frame.DataFrame'>\n",
      "RangeIndex: 5063 entries, 0 to 5062\n",
      "Data columns (total 6 columns):\n",
      " #   Column           Non-Null Count  Dtype         \n",
      "---  ------           --------------  -----         \n",
      " 0   CUSTOMER_ID      5063 non-null   object        \n",
      " 1   SUBSCRIPTION_ID  5063 non-null   object        \n",
      " 2   PLAN_ID          5063 non-null   object        \n",
      " 3   START_DATE       5063 non-null   datetime64[ns]\n",
      " 4   END_DATE         5063 non-null   datetime64[ns]\n",
      " 5   MONTHLY_AMOUNT   5063 non-null   int64         \n",
      "dtypes: datetime64[ns](2), int64(1), object(3)\n",
      "memory usage: 237.5+ KB\n"
     ]
    }
   ],
   "source": [
    "df.info()"
   ]
  },
  {
   "cell_type": "code",
   "execution_count": 5,
   "metadata": {},
   "outputs": [
    {
     "data": {
      "text/html": [
       "<div>\n",
       "<style scoped>\n",
       "    .dataframe tbody tr th:only-of-type {\n",
       "        vertical-align: middle;\n",
       "    }\n",
       "\n",
       "    .dataframe tbody tr th {\n",
       "        vertical-align: top;\n",
       "    }\n",
       "\n",
       "    .dataframe thead th {\n",
       "        text-align: right;\n",
       "    }\n",
       "</style>\n",
       "<table border=\"1\" class=\"dataframe\">\n",
       "  <thead>\n",
       "    <tr style=\"text-align: right;\">\n",
       "      <th></th>\n",
       "      <th>CUSTOMER_ID</th>\n",
       "      <th>SUBSCRIPTION_ID</th>\n",
       "      <th>PLAN_ID</th>\n",
       "      <th>START_DATE</th>\n",
       "      <th>END_DATE</th>\n",
       "      <th>MONTHLY_AMOUNT</th>\n",
       "    </tr>\n",
       "  </thead>\n",
       "  <tbody>\n",
       "    <tr>\n",
       "      <th>55</th>\n",
       "      <td>dbbdbf4df3c35f78ec4e3f30280718eca1d2e3ee310a5f...</td>\n",
       "      <td>fcb865fb8764e5f77a1c42b202a5446856f4e874143deb...</td>\n",
       "      <td>app_pro_12</td>\n",
       "      <td>2020-07-22</td>\n",
       "      <td>2050-01-01</td>\n",
       "      <td>880</td>\n",
       "    </tr>\n",
       "    <tr>\n",
       "      <th>61</th>\n",
       "      <td>8fe4a11302340622fa4fbcd43f5f24cc1b64c7e0a9044b...</td>\n",
       "      <td>ad9c60fe3b97e507a3d9f92a96a03895b6d65a192f659e...</td>\n",
       "      <td>app_pro</td>\n",
       "      <td>2020-08-04</td>\n",
       "      <td>2050-01-01</td>\n",
       "      <td>1508</td>\n",
       "    </tr>\n",
       "    <tr>\n",
       "      <th>62</th>\n",
       "      <td>800064c929169245352b62948a191687a23bea1e9897d7...</td>\n",
       "      <td>acdd86699dad8b3f73190153d9689aea94c0643fd5fe85...</td>\n",
       "      <td>app_pro</td>\n",
       "      <td>2020-03-30</td>\n",
       "      <td>2020-06-09</td>\n",
       "      <td>2262</td>\n",
       "    </tr>\n",
       "  </tbody>\n",
       "</table>\n",
       "</div>"
      ],
      "text/plain": [
       "                                          CUSTOMER_ID  \\\n",
       "55  dbbdbf4df3c35f78ec4e3f30280718eca1d2e3ee310a5f...   \n",
       "61  8fe4a11302340622fa4fbcd43f5f24cc1b64c7e0a9044b...   \n",
       "62  800064c929169245352b62948a191687a23bea1e9897d7...   \n",
       "\n",
       "                                      SUBSCRIPTION_ID     PLAN_ID START_DATE  \\\n",
       "55  fcb865fb8764e5f77a1c42b202a5446856f4e874143deb...  app_pro_12 2020-07-22   \n",
       "61  ad9c60fe3b97e507a3d9f92a96a03895b6d65a192f659e...     app_pro 2020-08-04   \n",
       "62  acdd86699dad8b3f73190153d9689aea94c0643fd5fe85...     app_pro 2020-03-30   \n",
       "\n",
       "     END_DATE  MONTHLY_AMOUNT  \n",
       "55 2050-01-01             880  \n",
       "61 2050-01-01            1508  \n",
       "62 2020-06-09            2262  "
      ]
     },
     "execution_count": 5,
     "metadata": {},
     "output_type": "execute_result"
    }
   ],
   "source": [
    "#Is there duplicates on Customer_id? \n",
    "df[df['CUSTOMER_ID'].duplicated(keep='first') ==True].head(3)"
   ]
  },
  {
   "cell_type": "code",
   "execution_count": 6,
   "metadata": {},
   "outputs": [
    {
     "data": {
      "text/html": [
       "<div>\n",
       "<style scoped>\n",
       "    .dataframe tbody tr th:only-of-type {\n",
       "        vertical-align: middle;\n",
       "    }\n",
       "\n",
       "    .dataframe tbody tr th {\n",
       "        vertical-align: top;\n",
       "    }\n",
       "\n",
       "    .dataframe thead th {\n",
       "        text-align: right;\n",
       "    }\n",
       "</style>\n",
       "<table border=\"1\" class=\"dataframe\">\n",
       "  <thead>\n",
       "    <tr style=\"text-align: right;\">\n",
       "      <th></th>\n",
       "      <th>SUBSCRIPTION_ID</th>\n",
       "      <th>PLAN_ID</th>\n",
       "      <th>START_DATE</th>\n",
       "      <th>END_DATE</th>\n",
       "      <th>MONTHLY_AMOUNT</th>\n",
       "    </tr>\n",
       "    <tr>\n",
       "      <th>CUSTOMER_ID</th>\n",
       "      <th></th>\n",
       "      <th></th>\n",
       "      <th></th>\n",
       "      <th></th>\n",
       "      <th></th>\n",
       "    </tr>\n",
       "  </thead>\n",
       "  <tbody>\n",
       "    <tr>\n",
       "      <th>00c2d0254d533e10d6c7aa2d94b2481c621ff495e457e566d1f0ea7fe9fa82f9</th>\n",
       "      <td>11</td>\n",
       "      <td>11</td>\n",
       "      <td>11</td>\n",
       "      <td>11</td>\n",
       "      <td>11</td>\n",
       "    </tr>\n",
       "    <tr>\n",
       "      <th>cffd660c17ba2b56cece1d7ef8048bf52200701c95c87cdafd13aeb60e1c8801</th>\n",
       "      <td>7</td>\n",
       "      <td>7</td>\n",
       "      <td>7</td>\n",
       "      <td>7</td>\n",
       "      <td>7</td>\n",
       "    </tr>\n",
       "    <tr>\n",
       "      <th>9ef90e1b23dcf3865dd327b889e2c5261c944cf43b70c0281cc43dfeb42adfa4</th>\n",
       "      <td>6</td>\n",
       "      <td>6</td>\n",
       "      <td>6</td>\n",
       "      <td>6</td>\n",
       "      <td>6</td>\n",
       "    </tr>\n",
       "    <tr>\n",
       "      <th>fa1b366efd89a12cb9329096ed891190768f19e0db6649ecdc5c3b64ec55941c</th>\n",
       "      <td>6</td>\n",
       "      <td>6</td>\n",
       "      <td>6</td>\n",
       "      <td>6</td>\n",
       "      <td>6</td>\n",
       "    </tr>\n",
       "    <tr>\n",
       "      <th>89229713a76076a977da0e03e69aa1ac964c2aa5bf471d640eacbb2e2e34bd78</th>\n",
       "      <td>5</td>\n",
       "      <td>5</td>\n",
       "      <td>5</td>\n",
       "      <td>5</td>\n",
       "      <td>5</td>\n",
       "    </tr>\n",
       "    <tr>\n",
       "      <th>8fe4a11302340622fa4fbcd43f5f24cc1b64c7e0a9044b20e65301c6ccb5bccd</th>\n",
       "      <td>5</td>\n",
       "      <td>5</td>\n",
       "      <td>5</td>\n",
       "      <td>5</td>\n",
       "      <td>5</td>\n",
       "    </tr>\n",
       "    <tr>\n",
       "      <th>c527be60076e35bacfd20dd4596b98cf4a4120abda58b5ed0bda1269a9d6dc94</th>\n",
       "      <td>5</td>\n",
       "      <td>5</td>\n",
       "      <td>5</td>\n",
       "      <td>5</td>\n",
       "      <td>5</td>\n",
       "    </tr>\n",
       "    <tr>\n",
       "      <th>cd5d16c5a10bd78a176e07f7a629cd26fc28501929dab2c116e16590a5324e17</th>\n",
       "      <td>5</td>\n",
       "      <td>5</td>\n",
       "      <td>5</td>\n",
       "      <td>5</td>\n",
       "      <td>5</td>\n",
       "    </tr>\n",
       "    <tr>\n",
       "      <th>d373069c42210796145304377dc2879eb1f6d3d98a4d310c1d87a54f493abc48</th>\n",
       "      <td>5</td>\n",
       "      <td>5</td>\n",
       "      <td>5</td>\n",
       "      <td>5</td>\n",
       "      <td>5</td>\n",
       "    </tr>\n",
       "    <tr>\n",
       "      <th>df19c2d4c56297d0282d2b59a0b9f24bd5c278ce58a0d64a3b3e3a3e260a8103</th>\n",
       "      <td>5</td>\n",
       "      <td>5</td>\n",
       "      <td>5</td>\n",
       "      <td>5</td>\n",
       "      <td>5</td>\n",
       "    </tr>\n",
       "    <tr>\n",
       "      <th>f9ff9cff7f213fd168f6630b5945a4143259f46325860aa9b7c3f9fe52daa078</th>\n",
       "      <td>5</td>\n",
       "      <td>5</td>\n",
       "      <td>5</td>\n",
       "      <td>5</td>\n",
       "      <td>5</td>\n",
       "    </tr>\n",
       "  </tbody>\n",
       "</table>\n",
       "</div>"
      ],
      "text/plain": [
       "                                                    SUBSCRIPTION_ID  PLAN_ID  \\\n",
       "CUSTOMER_ID                                                                    \n",
       "00c2d0254d533e10d6c7aa2d94b2481c621ff495e457e56...               11       11   \n",
       "cffd660c17ba2b56cece1d7ef8048bf52200701c95c87cd...                7        7   \n",
       "9ef90e1b23dcf3865dd327b889e2c5261c944cf43b70c02...                6        6   \n",
       "fa1b366efd89a12cb9329096ed891190768f19e0db6649e...                6        6   \n",
       "89229713a76076a977da0e03e69aa1ac964c2aa5bf471d6...                5        5   \n",
       "8fe4a11302340622fa4fbcd43f5f24cc1b64c7e0a9044b2...                5        5   \n",
       "c527be60076e35bacfd20dd4596b98cf4a4120abda58b5e...                5        5   \n",
       "cd5d16c5a10bd78a176e07f7a629cd26fc28501929dab2c...                5        5   \n",
       "d373069c42210796145304377dc2879eb1f6d3d98a4d310...                5        5   \n",
       "df19c2d4c56297d0282d2b59a0b9f24bd5c278ce58a0d64...                5        5   \n",
       "f9ff9cff7f213fd168f6630b5945a4143259f46325860aa...                5        5   \n",
       "\n",
       "                                                    START_DATE  END_DATE  \\\n",
       "CUSTOMER_ID                                                                \n",
       "00c2d0254d533e10d6c7aa2d94b2481c621ff495e457e56...          11        11   \n",
       "cffd660c17ba2b56cece1d7ef8048bf52200701c95c87cd...           7         7   \n",
       "9ef90e1b23dcf3865dd327b889e2c5261c944cf43b70c02...           6         6   \n",
       "fa1b366efd89a12cb9329096ed891190768f19e0db6649e...           6         6   \n",
       "89229713a76076a977da0e03e69aa1ac964c2aa5bf471d6...           5         5   \n",
       "8fe4a11302340622fa4fbcd43f5f24cc1b64c7e0a9044b2...           5         5   \n",
       "c527be60076e35bacfd20dd4596b98cf4a4120abda58b5e...           5         5   \n",
       "cd5d16c5a10bd78a176e07f7a629cd26fc28501929dab2c...           5         5   \n",
       "d373069c42210796145304377dc2879eb1f6d3d98a4d310...           5         5   \n",
       "df19c2d4c56297d0282d2b59a0b9f24bd5c278ce58a0d64...           5         5   \n",
       "f9ff9cff7f213fd168f6630b5945a4143259f46325860aa...           5         5   \n",
       "\n",
       "                                                    MONTHLY_AMOUNT  \n",
       "CUSTOMER_ID                                                         \n",
       "00c2d0254d533e10d6c7aa2d94b2481c621ff495e457e56...              11  \n",
       "cffd660c17ba2b56cece1d7ef8048bf52200701c95c87cd...               7  \n",
       "9ef90e1b23dcf3865dd327b889e2c5261c944cf43b70c02...               6  \n",
       "fa1b366efd89a12cb9329096ed891190768f19e0db6649e...               6  \n",
       "89229713a76076a977da0e03e69aa1ac964c2aa5bf471d6...               5  \n",
       "8fe4a11302340622fa4fbcd43f5f24cc1b64c7e0a9044b2...               5  \n",
       "c527be60076e35bacfd20dd4596b98cf4a4120abda58b5e...               5  \n",
       "cd5d16c5a10bd78a176e07f7a629cd26fc28501929dab2c...               5  \n",
       "d373069c42210796145304377dc2879eb1f6d3d98a4d310...               5  \n",
       "df19c2d4c56297d0282d2b59a0b9f24bd5c278ce58a0d64...               5  \n",
       "f9ff9cff7f213fd168f6630b5945a4143259f46325860aa...               5  "
      ]
     },
     "execution_count": 6,
     "metadata": {},
     "output_type": "execute_result"
    }
   ],
   "source": [
    "#Show the top duplicators\n",
    "df.groupby(\"CUSTOMER_ID\").count()[df.groupby(\"CUSTOMER_ID\").count()['PLAN_ID'] >4].sort_values('PLAN_ID', ascending=False)"
   ]
  },
  {
   "cell_type": "code",
   "execution_count": 7,
   "metadata": {},
   "outputs": [
    {
     "data": {
      "text/html": [
       "<div>\n",
       "<style scoped>\n",
       "    .dataframe tbody tr th:only-of-type {\n",
       "        vertical-align: middle;\n",
       "    }\n",
       "\n",
       "    .dataframe tbody tr th {\n",
       "        vertical-align: top;\n",
       "    }\n",
       "\n",
       "    .dataframe thead th {\n",
       "        text-align: right;\n",
       "    }\n",
       "</style>\n",
       "<table border=\"1\" class=\"dataframe\">\n",
       "  <thead>\n",
       "    <tr style=\"text-align: right;\">\n",
       "      <th></th>\n",
       "      <th>CUSTOMER_ID</th>\n",
       "      <th>SUBSCRIPTION_ID</th>\n",
       "      <th>PLAN_ID</th>\n",
       "      <th>START_DATE</th>\n",
       "      <th>END_DATE</th>\n",
       "      <th>MONTHLY_AMOUNT</th>\n",
       "    </tr>\n",
       "  </thead>\n",
       "  <tbody>\n",
       "    <tr>\n",
       "      <th>1092</th>\n",
       "      <td>cffd660c17ba2b56cece1d7ef8048bf52200701c95c87c...</td>\n",
       "      <td>4adb86c525ab4ddba1da42a6dd319b5145836e2ce4021c...</td>\n",
       "      <td>app_enterprise</td>\n",
       "      <td>2019-05-28</td>\n",
       "      <td>2019-06-28</td>\n",
       "      <td>95</td>\n",
       "    </tr>\n",
       "    <tr>\n",
       "      <th>1123</th>\n",
       "      <td>cffd660c17ba2b56cece1d7ef8048bf52200701c95c87c...</td>\n",
       "      <td>aea4d974a69289ea3c6307c0167cf827adee7dfd273f9e...</td>\n",
       "      <td>app_enterprise</td>\n",
       "      <td>2019-07-30</td>\n",
       "      <td>2019-08-31</td>\n",
       "      <td>95</td>\n",
       "    </tr>\n",
       "    <tr>\n",
       "      <th>4474</th>\n",
       "      <td>cffd660c17ba2b56cece1d7ef8048bf52200701c95c87c...</td>\n",
       "      <td>b3482835135c405c0efa6a8d0ccf66874a5a64177b8afa...</td>\n",
       "      <td>app_enterprise</td>\n",
       "      <td>2019-10-02</td>\n",
       "      <td>2019-11-02</td>\n",
       "      <td>95</td>\n",
       "    </tr>\n",
       "    <tr>\n",
       "      <th>2984</th>\n",
       "      <td>cffd660c17ba2b56cece1d7ef8048bf52200701c95c87c...</td>\n",
       "      <td>fa3f04b857630c555272457d264b45d5c46e72c62b157e...</td>\n",
       "      <td>app_enterprise</td>\n",
       "      <td>2020-04-24</td>\n",
       "      <td>2020-04-30</td>\n",
       "      <td>95</td>\n",
       "    </tr>\n",
       "    <tr>\n",
       "      <th>419</th>\n",
       "      <td>cffd660c17ba2b56cece1d7ef8048bf52200701c95c87c...</td>\n",
       "      <td>fa3f04b857630c555272457d264b45d5c46e72c62b157e...</td>\n",
       "      <td>app_enterprise</td>\n",
       "      <td>2020-04-30</td>\n",
       "      <td>2020-05-04</td>\n",
       "      <td>189</td>\n",
       "    </tr>\n",
       "    <tr>\n",
       "      <th>2336</th>\n",
       "      <td>cffd660c17ba2b56cece1d7ef8048bf52200701c95c87c...</td>\n",
       "      <td>fa3f04b857630c555272457d264b45d5c46e72c62b157e...</td>\n",
       "      <td>app_pro</td>\n",
       "      <td>2020-05-04</td>\n",
       "      <td>2020-06-24</td>\n",
       "      <td>302</td>\n",
       "    </tr>\n",
       "    <tr>\n",
       "      <th>308</th>\n",
       "      <td>cffd660c17ba2b56cece1d7ef8048bf52200701c95c87c...</td>\n",
       "      <td>fa3f04b857630c555272457d264b45d5c46e72c62b157e...</td>\n",
       "      <td>app_enterprise</td>\n",
       "      <td>2020-06-24</td>\n",
       "      <td>2050-01-01</td>\n",
       "      <td>95</td>\n",
       "    </tr>\n",
       "  </tbody>\n",
       "</table>\n",
       "</div>"
      ],
      "text/plain": [
       "                                            CUSTOMER_ID  \\\n",
       "1092  cffd660c17ba2b56cece1d7ef8048bf52200701c95c87c...   \n",
       "1123  cffd660c17ba2b56cece1d7ef8048bf52200701c95c87c...   \n",
       "4474  cffd660c17ba2b56cece1d7ef8048bf52200701c95c87c...   \n",
       "2984  cffd660c17ba2b56cece1d7ef8048bf52200701c95c87c...   \n",
       "419   cffd660c17ba2b56cece1d7ef8048bf52200701c95c87c...   \n",
       "2336  cffd660c17ba2b56cece1d7ef8048bf52200701c95c87c...   \n",
       "308   cffd660c17ba2b56cece1d7ef8048bf52200701c95c87c...   \n",
       "\n",
       "                                        SUBSCRIPTION_ID         PLAN_ID  \\\n",
       "1092  4adb86c525ab4ddba1da42a6dd319b5145836e2ce4021c...  app_enterprise   \n",
       "1123  aea4d974a69289ea3c6307c0167cf827adee7dfd273f9e...  app_enterprise   \n",
       "4474  b3482835135c405c0efa6a8d0ccf66874a5a64177b8afa...  app_enterprise   \n",
       "2984  fa3f04b857630c555272457d264b45d5c46e72c62b157e...  app_enterprise   \n",
       "419   fa3f04b857630c555272457d264b45d5c46e72c62b157e...  app_enterprise   \n",
       "2336  fa3f04b857630c555272457d264b45d5c46e72c62b157e...         app_pro   \n",
       "308   fa3f04b857630c555272457d264b45d5c46e72c62b157e...  app_enterprise   \n",
       "\n",
       "     START_DATE   END_DATE  MONTHLY_AMOUNT  \n",
       "1092 2019-05-28 2019-06-28              95  \n",
       "1123 2019-07-30 2019-08-31              95  \n",
       "4474 2019-10-02 2019-11-02              95  \n",
       "2984 2020-04-24 2020-04-30              95  \n",
       "419  2020-04-30 2020-05-04             189  \n",
       "2336 2020-05-04 2020-06-24             302  \n",
       "308  2020-06-24 2050-01-01              95  "
      ]
     },
     "execution_count": 7,
     "metadata": {},
     "output_type": "execute_result"
    }
   ],
   "source": [
    "#check second top duplicator\n",
    "df[df[\"CUSTOMER_ID\"] == 'cffd660c17ba2b56cece1d7ef8048bf52200701c95c87cdafd13aeb60e1c8801'].sort_values('START_DATE')"
   ]
  },
  {
   "cell_type": "code",
   "execution_count": 8,
   "metadata": {},
   "outputs": [
    {
     "data": {
      "text/html": [
       "<div>\n",
       "<style scoped>\n",
       "    .dataframe tbody tr th:only-of-type {\n",
       "        vertical-align: middle;\n",
       "    }\n",
       "\n",
       "    .dataframe tbody tr th {\n",
       "        vertical-align: top;\n",
       "    }\n",
       "\n",
       "    .dataframe thead th {\n",
       "        text-align: right;\n",
       "    }\n",
       "</style>\n",
       "<table border=\"1\" class=\"dataframe\">\n",
       "  <thead>\n",
       "    <tr style=\"text-align: right;\">\n",
       "      <th></th>\n",
       "      <th>CUSTOMER_ID</th>\n",
       "      <th>SUBSCRIPTION_ID</th>\n",
       "      <th>PLAN_ID</th>\n",
       "      <th>START_DATE</th>\n",
       "      <th>END_DATE</th>\n",
       "      <th>MONTHLY_AMOUNT</th>\n",
       "    </tr>\n",
       "  </thead>\n",
       "  <tbody>\n",
       "    <tr>\n",
       "      <th>308</th>\n",
       "      <td>cffd660c17ba2b56cece1d7ef8048bf52200701c95c87c...</td>\n",
       "      <td>fa3f04b857630c555272457d264b45d5c46e72c62b157e...</td>\n",
       "      <td>app_enterprise</td>\n",
       "      <td>2020-06-24</td>\n",
       "      <td>2050-01-01</td>\n",
       "      <td>95</td>\n",
       "    </tr>\n",
       "    <tr>\n",
       "      <th>419</th>\n",
       "      <td>cffd660c17ba2b56cece1d7ef8048bf52200701c95c87c...</td>\n",
       "      <td>fa3f04b857630c555272457d264b45d5c46e72c62b157e...</td>\n",
       "      <td>app_enterprise</td>\n",
       "      <td>2020-04-30</td>\n",
       "      <td>2020-05-04</td>\n",
       "      <td>189</td>\n",
       "    </tr>\n",
       "    <tr>\n",
       "      <th>2336</th>\n",
       "      <td>cffd660c17ba2b56cece1d7ef8048bf52200701c95c87c...</td>\n",
       "      <td>fa3f04b857630c555272457d264b45d5c46e72c62b157e...</td>\n",
       "      <td>app_pro</td>\n",
       "      <td>2020-05-04</td>\n",
       "      <td>2020-06-24</td>\n",
       "      <td>302</td>\n",
       "    </tr>\n",
       "    <tr>\n",
       "      <th>2984</th>\n",
       "      <td>cffd660c17ba2b56cece1d7ef8048bf52200701c95c87c...</td>\n",
       "      <td>fa3f04b857630c555272457d264b45d5c46e72c62b157e...</td>\n",
       "      <td>app_enterprise</td>\n",
       "      <td>2020-04-24</td>\n",
       "      <td>2020-04-30</td>\n",
       "      <td>95</td>\n",
       "    </tr>\n",
       "  </tbody>\n",
       "</table>\n",
       "</div>"
      ],
      "text/plain": [
       "                                            CUSTOMER_ID  \\\n",
       "308   cffd660c17ba2b56cece1d7ef8048bf52200701c95c87c...   \n",
       "419   cffd660c17ba2b56cece1d7ef8048bf52200701c95c87c...   \n",
       "2336  cffd660c17ba2b56cece1d7ef8048bf52200701c95c87c...   \n",
       "2984  cffd660c17ba2b56cece1d7ef8048bf52200701c95c87c...   \n",
       "\n",
       "                                        SUBSCRIPTION_ID         PLAN_ID  \\\n",
       "308   fa3f04b857630c555272457d264b45d5c46e72c62b157e...  app_enterprise   \n",
       "419   fa3f04b857630c555272457d264b45d5c46e72c62b157e...  app_enterprise   \n",
       "2336  fa3f04b857630c555272457d264b45d5c46e72c62b157e...         app_pro   \n",
       "2984  fa3f04b857630c555272457d264b45d5c46e72c62b157e...  app_enterprise   \n",
       "\n",
       "     START_DATE   END_DATE  MONTHLY_AMOUNT  \n",
       "308  2020-06-24 2050-01-01              95  \n",
       "419  2020-04-30 2020-05-04             189  \n",
       "2336 2020-05-04 2020-06-24             302  \n",
       "2984 2020-04-24 2020-04-30              95  "
      ]
     },
     "execution_count": 8,
     "metadata": {},
     "output_type": "execute_result"
    }
   ],
   "source": [
    "#this shows that a customer can have several susbscriptions from which each subscription can have different plans\n",
    "df[df[\"SUBSCRIPTION_ID\"] == 'fa3f04b857630c555272457d264b45d5c46e72c62b157e6876487c6240fa7b2b']"
   ]
  },
  {
   "cell_type": "markdown",
   "metadata": {},
   "source": [
    "---\n",
    "## DATA CHECK\n",
    "---"
   ]
  },
  {
   "cell_type": "code",
   "execution_count": 9,
   "metadata": {},
   "outputs": [
    {
     "data": {
      "text/html": [
       "<div>\n",
       "<style scoped>\n",
       "    .dataframe tbody tr th:only-of-type {\n",
       "        vertical-align: middle;\n",
       "    }\n",
       "\n",
       "    .dataframe tbody tr th {\n",
       "        vertical-align: top;\n",
       "    }\n",
       "\n",
       "    .dataframe thead th {\n",
       "        text-align: right;\n",
       "    }\n",
       "</style>\n",
       "<table border=\"1\" class=\"dataframe\">\n",
       "  <thead>\n",
       "    <tr style=\"text-align: right;\">\n",
       "      <th></th>\n",
       "      <th>Unique_count</th>\n",
       "      <th>Duplications_count</th>\n",
       "    </tr>\n",
       "  </thead>\n",
       "  <tbody>\n",
       "    <tr>\n",
       "      <th>CUSTOMER_ID</th>\n",
       "      <td>4446</td>\n",
       "      <td>617</td>\n",
       "    </tr>\n",
       "    <tr>\n",
       "      <th>SUBSCRIPTION_ID</th>\n",
       "      <td>4734</td>\n",
       "      <td>329</td>\n",
       "    </tr>\n",
       "  </tbody>\n",
       "</table>\n",
       "</div>"
      ],
      "text/plain": [
       "                 Unique_count  Duplications_count\n",
       "CUSTOMER_ID              4446                 617\n",
       "SUBSCRIPTION_ID          4734                 329"
      ]
     },
     "execution_count": 9,
     "metadata": {},
     "output_type": "execute_result"
    }
   ],
   "source": [
    "Check =pd.DataFrame([[df['CUSTOMER_ID'].duplicated().sum(),len(df.CUSTOMER_ID.unique())],[df['SUBSCRIPTION_ID'].duplicated().sum(),len(df.SUBSCRIPTION_ID.unique()) ]], columns=['Duplications_count','Unique_count'],index=['CUSTOMER_ID', 'SUBSCRIPTION_ID']) \n",
    "Check[[\"Unique_count\", \"Duplications_count\"]]"
   ]
  },
  {
   "cell_type": "code",
   "execution_count": 10,
   "metadata": {},
   "outputs": [
    {
     "data": {
      "text/html": [
       "<div>\n",
       "<style scoped>\n",
       "    .dataframe tbody tr th:only-of-type {\n",
       "        vertical-align: middle;\n",
       "    }\n",
       "\n",
       "    .dataframe tbody tr th {\n",
       "        vertical-align: top;\n",
       "    }\n",
       "\n",
       "    .dataframe thead th {\n",
       "        text-align: right;\n",
       "    }\n",
       "</style>\n",
       "<table border=\"1\" class=\"dataframe\">\n",
       "  <thead>\n",
       "    <tr style=\"text-align: right;\">\n",
       "      <th></th>\n",
       "      <th>not null values</th>\n",
       "      <th>missing values</th>\n",
       "      <th>percentage_missing</th>\n",
       "    </tr>\n",
       "  </thead>\n",
       "  <tbody>\n",
       "    <tr>\n",
       "      <th>CUSTOMER_ID</th>\n",
       "      <td>5063.0</td>\n",
       "      <td>0.0</td>\n",
       "      <td>0.0</td>\n",
       "    </tr>\n",
       "    <tr>\n",
       "      <th>SUBSCRIPTION_ID</th>\n",
       "      <td>5063.0</td>\n",
       "      <td>0.0</td>\n",
       "      <td>0.0</td>\n",
       "    </tr>\n",
       "    <tr>\n",
       "      <th>PLAN_ID</th>\n",
       "      <td>5063.0</td>\n",
       "      <td>0.0</td>\n",
       "      <td>0.0</td>\n",
       "    </tr>\n",
       "    <tr>\n",
       "      <th>START_DATE</th>\n",
       "      <td>5063.0</td>\n",
       "      <td>0.0</td>\n",
       "      <td>0.0</td>\n",
       "    </tr>\n",
       "    <tr>\n",
       "      <th>END_DATE</th>\n",
       "      <td>5063.0</td>\n",
       "      <td>0.0</td>\n",
       "      <td>0.0</td>\n",
       "    </tr>\n",
       "    <tr>\n",
       "      <th>MONTHLY_AMOUNT</th>\n",
       "      <td>5063.0</td>\n",
       "      <td>0.0</td>\n",
       "      <td>0.0</td>\n",
       "    </tr>\n",
       "  </tbody>\n",
       "</table>\n",
       "</div>"
      ],
      "text/plain": [
       "                 not null values  missing values  percentage_missing\n",
       "CUSTOMER_ID               5063.0             0.0                 0.0\n",
       "SUBSCRIPTION_ID           5063.0             0.0                 0.0\n",
       "PLAN_ID                   5063.0             0.0                 0.0\n",
       "START_DATE                5063.0             0.0                 0.0\n",
       "END_DATE                  5063.0             0.0                 0.0\n",
       "MONTHLY_AMOUNT            5063.0             0.0                 0.0"
      ]
     },
     "execution_count": 10,
     "metadata": {},
     "output_type": "execute_result"
    }
   ],
   "source": [
    "test = pd.DataFrame( data = [df.notnull().sum() , df.isna().sum() , ((df.isna().sum()/ df.count())*100)], index=[\"not null values\",\"missing values\", \"percentage_missing\"]).transpose()\n",
    "test"
   ]
  },
  {
   "cell_type": "markdown",
   "metadata": {},
   "source": [
    "- There are duplications on subscriptions and customers_id, which is ok, this table is not the base table for either variable.\n",
    "- There are no null values"
   ]
  },
  {
   "cell_type": "markdown",
   "metadata": {},
   "source": [
    "### Lets check the Monthly amount distribution"
   ]
  },
  {
   "cell_type": "code",
   "execution_count": 11,
   "metadata": {},
   "outputs": [
    {
     "data": {
      "text/plain": [
       "count     5063.000000\n",
       "mean       282.628876\n",
       "std        932.240416\n",
       "min          0.000000\n",
       "25%         95.000000\n",
       "50%        126.000000\n",
       "75%        252.000000\n",
       "max      46339.000000\n",
       "Name: MONTHLY_AMOUNT, dtype: float64"
      ]
     },
     "execution_count": 11,
     "metadata": {},
     "output_type": "execute_result"
    }
   ],
   "source": [
    "df.MONTHLY_AMOUNT.describe()"
   ]
  },
  {
   "cell_type": "code",
   "execution_count": 13,
   "metadata": {},
   "outputs": [
    {
     "data": {
      "text/plain": [
       "157.0"
      ]
     },
     "execution_count": 13,
     "metadata": {},
     "output_type": "execute_result"
    }
   ],
   "source": [
    "from scipy.stats import iqr\n",
    "iqr(df.MONTHLY_AMOUNT)"
   ]
  },
  {
   "cell_type": "code",
   "execution_count": 14,
   "metadata": {},
   "outputs": [
    {
     "data": {
      "text/plain": [
       "<matplotlib.axes._subplots.AxesSubplot at 0x1c7e60bbe88>"
      ]
     },
     "execution_count": 14,
     "metadata": {},
     "output_type": "execute_result"
    },
    {
     "data": {
      "image/png": "[encoded data removed]",
      "text/plain": [
       "<Figure size 432x288 with 1 Axes>"
      ]
     },
     "metadata": {
      "needs_background": "light"
     },
     "output_type": "display_data"
    }
   ],
   "source": [
    "import seaborn as sns\n",
    "green_diamond = dict(markerfacecolor='g', marker='D')\n",
    "sns.boxplot(x=df.MONTHLY_AMOUNT,flierprops=green_diamond)"
   ]
  },
  {
   "cell_type": "code",
   "execution_count": 15,
   "metadata": {},
   "outputs": [
    {
     "name": "stdout",
     "output_type": "stream",
     "text": [
      "95th =  880.0 \n",
      "99th =  1207.0\n"
     ]
    }
   ],
   "source": [
    "#what is the 95th and 97th percentile? \n",
    "print( \"95th = \",df.MONTHLY_AMOUNT.quantile(0.95), \"\\n99th = \",round(df.MONTHLY_AMOUNT.quantile(0.97),0))"
   ]
  },
  {
   "cell_type": "markdown",
   "metadata": {},
   "source": [
    "- There are considerable amounts of high values relative to the vast majority.\n",
    "- In other words, after the (95th percentile the numbers go really high)"
   ]
  },
  {
   "cell_type": "code",
   "execution_count": 16,
   "metadata": {},
   "outputs": [
    {
     "data": {
      "text/plain": [
       "16"
      ]
     },
     "execution_count": 16,
     "metadata": {},
     "output_type": "execute_result"
    }
   ],
   "source": [
    "#Could there be a plan with no value? how many different plans have at least one monthly amount == 0? \n",
    "len(df[df[\"MONTHLY_AMOUNT\"] == 0][\"PLAN_ID\"].unique().tolist())"
   ]
  },
  {
   "cell_type": "code",
   "execution_count": 17,
   "metadata": {},
   "outputs": [
    {
     "data": {
      "text/plain": [
       "30"
      ]
     },
     "execution_count": 17,
     "metadata": {},
     "output_type": "execute_result"
    }
   ],
   "source": [
    "#how many different plans there are? \n",
    "len(df.PLAN_ID.unique().tolist())"
   ]
  },
  {
   "cell_type": "markdown",
   "metadata": {},
   "source": [
    "---\n",
    "---"
   ]
  },
  {
   "cell_type": "markdown",
   "metadata": {},
   "source": [
    "# Errors on data"
   ]
  },
  {
   "cell_type": "code",
   "execution_count": 18,
   "metadata": {},
   "outputs": [
    {
     "ename": "SyntaxError",
     "evalue": "invalid syntax (<ipython-input-18-308f8c9b4b4b>, line 2)",
     "output_type": "error",
     "traceback": [
      "\u001b[1;36m  File \u001b[1;32m\"<ipython-input-18-308f8c9b4b4b>\"\u001b[1;36m, line \u001b[1;32m2\u001b[0m\n\u001b[1;33m    with\u001b[0m\n\u001b[1;37m         ^\u001b[0m\n\u001b[1;31mSyntaxError\u001b[0m\u001b[1;31m:\u001b[0m invalid syntax\n"
     ]
    }
   ],
   "source": [
    "# requette en SQL (one way to do it)\n",
    "with \n",
    "\n",
    "base as \n",
    "\n",
    "(\n",
    "select\n",
    "\trow_number() over() as indexo,\n",
    "\t*,\n",
    "\t end_date -start_date +1 as subs_days\n",
    "\tfrom\n",
    "\tyousign.subs\n",
    ")\n",
    "\n",
    "select * from base\n",
    "where subs_days <1"
   ]
  },
  {
   "cell_type": "code",
   "execution_count": 19,
   "metadata": {},
   "outputs": [
    {
     "data": {
      "text/html": [
       "<div>\n",
       "<style scoped>\n",
       "    .dataframe tbody tr th:only-of-type {\n",
       "        vertical-align: middle;\n",
       "    }\n",
       "\n",
       "    .dataframe tbody tr th {\n",
       "        vertical-align: top;\n",
       "    }\n",
       "\n",
       "    .dataframe thead th {\n",
       "        text-align: right;\n",
       "    }\n",
       "</style>\n",
       "<table border=\"1\" class=\"dataframe\">\n",
       "  <thead>\n",
       "    <tr style=\"text-align: right;\">\n",
       "      <th></th>\n",
       "      <th>CUSTOMER_ID</th>\n",
       "      <th>SUBSCRIPTION_ID</th>\n",
       "      <th>PLAN_ID</th>\n",
       "      <th>START_DATE</th>\n",
       "      <th>END_DATE</th>\n",
       "      <th>MONTHLY_AMOUNT</th>\n",
       "    </tr>\n",
       "  </thead>\n",
       "  <tbody>\n",
       "    <tr>\n",
       "      <th>814</th>\n",
       "      <td>bccfd2339b2993520032c4cc42c489df8a4ccf862e9f77...</td>\n",
       "      <td>f85e8f601a49455ad550f6d97abee08cbecd93b0366daf...</td>\n",
       "      <td>api_extended_12</td>\n",
       "      <td>2020-05-25</td>\n",
       "      <td>2018-10-30</td>\n",
       "      <td>315</td>\n",
       "    </tr>\n",
       "  </tbody>\n",
       "</table>\n",
       "</div>"
      ],
      "text/plain": [
       "                                           CUSTOMER_ID  \\\n",
       "814  bccfd2339b2993520032c4cc42c489df8a4ccf862e9f77...   \n",
       "\n",
       "                                       SUBSCRIPTION_ID          PLAN_ID  \\\n",
       "814  f85e8f601a49455ad550f6d97abee08cbecd93b0366daf...  api_extended_12   \n",
       "\n",
       "    START_DATE   END_DATE  MONTHLY_AMOUNT  \n",
       "814 2020-05-25 2018-10-30             315  "
      ]
     },
     "execution_count": 19,
     "metadata": {},
     "output_type": "execute_result"
    }
   ],
   "source": [
    "# sur pandas (another way to do it)\n",
    "df[df['START_DATE']>df[\"END_DATE\"]]"
   ]
  },
  {
   "cell_type": "code",
   "execution_count": null,
   "metadata": {},
   "outputs": [],
   "source": []
  }
 ],
 "metadata": {
  "kernelspec": {
   "display_name": "Python 3",
   "language": "python",
   "name": "python3"
  },
  "language_info": {
   "codemirror_mode": {
    "name": "ipython",
    "version": 3
   },
   "file_extension": ".py",
   "mimetype": "text/x-python",
   "name": "python",
   "nbconvert_exporter": "python",
   "pygments_lexer": "ipython3",
   "version": "3.7.6"
  }
 },
 "nbformat": 4,
 "nbformat_minor": 4
}
